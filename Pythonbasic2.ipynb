{
 "cells": [
  {
   "cell_type": "code",
   "execution_count": 12,
   "metadata": {},
   "outputs": [
    {
     "name": "stdout",
     "output_type": "stream",
     "text": [
      "eaoiu\n"
     ]
    }
   ],
   "source": [
    "import random\n",
    "vowel_list = ['a','e','i','o','u']\n",
    "random.shuffle(vowel_list)\n",
    "print(''.join(vowel_list))"
   ]
  },
  {
   "cell_type": "code",
   "execution_count": 19,
   "metadata": {},
   "outputs": [
    {
     "name": "stdout",
     "output_type": "stream",
     "text": [
      "30\n",
      "60\n",
      "90\n",
      "40\n",
      "80\n",
      "50\n",
      "20\n",
      "70\n",
      "10\n"
     ]
    }
   ],
   "source": [
    "def nums(a):\n",
    "  position = 3 - 1 \n",
    "  index = 0\n",
    "  list_length = (len(a))\n",
    "  while list_length>0:\n",
    "    index = (position+index)%list_length\n",
    "    print(a.pop(index))\n",
    "    list_length -= 1\n",
    "num_list = [10,20,30,40,50,60,70,80,90]\n",
    "nums(num_list)\n"
   ]
  },
  {
   "cell_type": "code",
   "execution_count": null,
   "metadata": {},
   "outputs": [],
   "source": []
  }
 ],
 "metadata": {
  "kernelspec": {
   "display_name": "Python 3",
   "language": "python",
   "name": "python3"
  },
  "language_info": {
   "codemirror_mode": {
    "name": "ipython",
    "version": 3
   },
   "file_extension": ".py",
   "mimetype": "text/x-python",
   "name": "python",
   "nbconvert_exporter": "python",
   "pygments_lexer": "ipython3",
   "version": "3.7.4"
  }
 },
 "nbformat": 4,
 "nbformat_minor": 2
}
