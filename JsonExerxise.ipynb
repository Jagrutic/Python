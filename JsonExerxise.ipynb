{
 "cells": [
  {
   "cell_type": "code",
   "execution_count": null,
   "metadata": {},
   "outputs": [],
   "source": [
    "https://www.w3resource.com/python-exercises/python-json-index.php"
   ]
  },
  {
   "cell_type": "code",
   "execution_count": 1,
   "metadata": {},
   "outputs": [
    {
     "name": "stdout",
     "output_type": "stream",
     "text": [
      "{\"name\": \"Jagruti\", \"country\": \"India\"}\n"
     ]
    }
   ],
   "source": [
    "\"\"\"Write a Python program to convert Python object to JSON data.\"\"\"\n",
    "import json\n",
    "\n",
    "python_obj = {\n",
    "  \"name\": \"Jagruti\",\n",
    "  \"country\":\"India\",\n",
    "}\n",
    "\n",
    "json_info = json.dumps(python_obj)\n",
    "\n",
    "print(json_info)"
   ]
  },
  {
   "cell_type": "code",
   "execution_count": 4,
   "metadata": {},
   "outputs": [
    {
     "name": "stdout",
     "output_type": "stream",
     "text": [
      "json dict :  {\"name\": \"Jagruti\", \"age\": 25, \"country\": \"India\"}\n",
      "jason list :  [\"1\", \"Mango\", \"2.3\"]\n",
      "json string :  \"Good Morning\"\n",
      "json number1 :  1234\n",
      "json number2 :  45.55\n",
      "json true :  true\n",
      "json false :  false\n",
      "json null ;  null\n"
     ]
    }
   ],
   "source": [
    "\"\"\"Write a Python program to convert Python objects into JSON strings. Print all the values.\"\"\"\n",
    "import json\n",
    "py_dict =  {\"name\": \"Jagruti\", \"age\": 25, \"country\":\"India\"}\n",
    "py_list =  [\"1\", \"Mango\", \"2.3\"]\n",
    "py_str =  \"Good Morning\"\n",
    "py_int =  (1234)\n",
    "py_float =  (45.55)\n",
    "py_True =  (True)\n",
    "py_False =  (False)\n",
    "py_None =  (None)\n",
    "\n",
    "json_dict = json.dumps(py_dict)\n",
    "json_list = json.dumps(py_list)\n",
    "json_str = json.dumps(py_str)\n",
    "json_int = json.dumps(py_int)\n",
    "json_float = json.dumps(py_float)\n",
    "json_true = json.dumps(py_True)\n",
    "json_false = json.dumps(py_False)\n",
    "json_none = json.dumps(py_None)\n",
    "\n",
    "print(\"json dict : \", json_dict)\n",
    "print(\"jason list : \", json_list)\n",
    "print(\"json string : \", json_str)\n",
    "print(\"json number1 : \", json_int)\n",
    "print(\"json number2 : \", json_float)\n",
    "print(\"json true : \", json_true)\n",
    "print(\"json false : \", json_false)\n",
    "print(\"json null ; \", json_none)\n"
   ]
  },
  {
   "cell_type": "code",
   "execution_count": null,
   "metadata": {},
   "outputs": [],
   "source": []
  }
 ],
 "metadata": {
  "kernelspec": {
   "display_name": "Python 3",
   "language": "python",
   "name": "python3"
  },
  "language_info": {
   "codemirror_mode": {
    "name": "ipython",
    "version": 3
   },
   "file_extension": ".py",
   "mimetype": "text/x-python",
   "name": "python",
   "nbconvert_exporter": "python",
   "pygments_lexer": "ipython3",
   "version": "3.7.4"
  }
 },
 "nbformat": 4,
 "nbformat_minor": 2
}
