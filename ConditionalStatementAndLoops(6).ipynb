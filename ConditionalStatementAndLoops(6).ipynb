{
 "cells": [
  {
   "cell_type": "code",
   "execution_count": null,
   "metadata": {},
   "outputs": [],
   "source": [
    "https://www.w3resource.com/python-exercises/python-conditional-statements-and-loop-exercises.php"
   ]
  },
  {
   "cell_type": "code",
   "execution_count": 96,
   "metadata": {},
   "outputs": [
    {
     "name": "stdout",
     "output_type": "stream",
     "text": [
      "Enter a word here: jagruti\n",
      "jagruti\n",
      "iturgaj"
     ]
    }
   ],
   "source": [
    "\"\"\" 5. Write a Python program that accepts a word from the user and reverse it.\"\"\"\n",
    "word = input(\"Enter a word here: \")\n",
    "print(word)\n",
    "for n in range (len(word) -1,-1,-1):\n",
    "    print(word[n], end=\"\")\n",
    "    \n"
   ]
  },
  {
   "cell_type": "code",
   "execution_count": 97,
   "metadata": {},
   "outputs": [
    {
     "name": "stdout",
     "output_type": "stream",
     "text": [
      "Number of even: 5\n",
      "Number of odd: 4\n"
     ]
    }
   ],
   "source": [
    "\"\"\" 6.Write a Python program to count the number of even and odd numbers from a series of numbers.\"\"\"\n",
    "nums = (1,2,3,4,5,6,7,8,9)\n",
    "count_even = 0\n",
    "count_odd = 0\n",
    "for n in nums :\n",
    "    if(n % 2 !=0) :\n",
    "            count_even += 1\n",
    "    else:\n",
    "            count_odd += 1\n",
    "    \n",
    "print(\"Number of even:\", count_even)\n",
    "print(\"Number of odd:\", count_odd)"
   ]
  },
  {
   "cell_type": "code",
   "execution_count": 98,
   "metadata": {},
   "outputs": [
    {
     "name": "stdout",
     "output_type": "stream",
     "text": [
      "1452 Type is <class 'int'>\n",
      "11.23 Type is <class 'float'>\n",
      "(1+2j) Type is <class 'complex'>\n",
      "True Type is <class 'bool'>\n",
      "w3resource Type is <class 'str'>\n",
      "(0, -1) Type is <class 'tuple'>\n",
      "[5, 12] Type is <class 'list'>\n",
      "{'class': 'V', 'section': 'A'} Type is <class 'dict'>\n"
     ]
    }
   ],
   "source": [
    "\"\"\"7. Write a Python program that prints each item and its corresponding type from the following list.\"\"\"\n",
    "datalist = [1452, 11.23, 1+2j, True, 'w3resource', (0, -1), [5, 12], {\"class\":'V', \"section\":'A'}]\n",
    "for n in datalist:\n",
    "    print(n,\"Type is\", type(n))\n"
   ]
  },
  {
   "cell_type": "code",
   "execution_count": 99,
   "metadata": {},
   "outputs": [
    {
     "name": "stdout",
     "output_type": "stream",
     "text": [
      "0\n",
      "1\n",
      "2\n",
      "4\n",
      "5\n"
     ]
    }
   ],
   "source": [
    "\"\"\"8. Write a Python program that prints all the numbers from 0 to 6 except 3 and 6.\"\"\"\n",
    "for num in range(0,6):\n",
    "    if (num == 3 or num == 6):\n",
    "        continue\n",
    "    else:\n",
    "        print(num)"
   ]
  },
  {
   "cell_type": "code",
   "execution_count": 100,
   "metadata": {},
   "outputs": [
    {
     "name": "stdout",
     "output_type": "stream",
     "text": [
      "1\n",
      "1\n",
      "2\n",
      "3\n",
      "5\n",
      "8\n",
      "13\n",
      "21\n",
      "34\n"
     ]
    }
   ],
   "source": [
    "\"\"\"9. Write a Python program to get the Fibonacci series between 0 to 50.\"\"\"\n",
    "n=0\n",
    "m=1\n",
    "while m<50:\n",
    "    print(m)\n",
    "    n, m = m, n+m"
   ]
  },
  {
   "cell_type": "code",
   "execution_count": 101,
   "metadata": {},
   "outputs": [
    {
     "name": "stdout",
     "output_type": "stream",
     "text": [
      "FizzBuzz\n",
      "1\n",
      "2\n",
      "Fizz\n",
      "4\n",
      "Buzz\n",
      "Fizz\n",
      "7\n",
      "8\n",
      "Fizz\n",
      "Buzz\n",
      "11\n",
      "Fizz\n",
      "13\n",
      "14\n",
      "FizzBuzz\n",
      "16\n",
      "17\n",
      "Fizz\n",
      "19\n",
      "Buzz\n",
      "Fizz\n",
      "22\n",
      "23\n",
      "Fizz\n",
      "Buzz\n",
      "26\n",
      "Fizz\n",
      "28\n",
      "29\n",
      "FizzBuzz\n",
      "31\n",
      "32\n",
      "Fizz\n",
      "34\n",
      "Buzz\n",
      "Fizz\n",
      "37\n",
      "38\n",
      "Fizz\n",
      "Buzz\n",
      "41\n",
      "Fizz\n",
      "43\n",
      "44\n",
      "FizzBuzz\n",
      "46\n",
      "47\n",
      "Fizz\n",
      "49\n",
      "Buzz\n"
     ]
    }
   ],
   "source": [
    "\"\"\"10. Write a Python program which iterates the integers from 1 to 50. \n",
    "For multiples of three print \"Fizz\" instead of the number and for the multiples of five print \"Buzz\". \n",
    "For numbers which are multiples of both three and five print \"FizzBuzz\".\"\"\"\n",
    "for x in range(51):\n",
    "    if x % 3 == 0 and x % 5 == 0:\n",
    "        print(\"FizzBuzz\")\n",
    "        continue\n",
    "    elif x % 3 == 0:\n",
    "        print(\"Fizz\")\n",
    "        continue\n",
    "    elif x % 5 == 0:\n",
    "        print(\"Buzz\")\n",
    "        continue\n",
    "    print(x)"
   ]
  },
  {
   "cell_type": "code",
   "execution_count": null,
   "metadata": {},
   "outputs": [],
   "source": []
  }
 ],
 "metadata": {
  "kernelspec": {
   "display_name": "Python 3",
   "language": "python",
   "name": "python3"
  },
  "language_info": {
   "codemirror_mode": {
    "name": "ipython",
    "version": 3
   },
   "file_extension": ".py",
   "mimetype": "text/x-python",
   "name": "python",
   "nbconvert_exporter": "python",
   "pygments_lexer": "ipython3",
   "version": "3.7.4"
  }
 },
 "nbformat": 4,
 "nbformat_minor": 2
}
